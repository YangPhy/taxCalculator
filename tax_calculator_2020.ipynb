{
  "nbformat": 4,
  "nbformat_minor": 0,
  "metadata": {
    "colab": {
      "name": "tax-calculator-2020.ipynb",
      "provenance": [],
      "collapsed_sections": [],
      "include_colab_link": true
    },
    "kernelspec": {
      "display_name": "Python 2",
      "language": "python",
      "name": "python2"
    }
  },
  "cells": [
    {
      "cell_type": "markdown",
      "metadata": {
        "id": "view-in-github",
        "colab_type": "text"
      },
      "source": [
        "<a href=\"https://colab.research.google.com/github/YangPhy/taxCalculator/blob/master/tax_calculator_2020.ipynb\" target=\"_parent\"><img src=\"https://colab.research.google.com/assets/colab-badge.svg\" alt=\"Open In Colab\"/></a>"
      ]
    },
    {
      "cell_type": "markdown",
      "metadata": {
        "id": "ZNXNeO1DhLPZ",
        "colab_type": "text"
      },
      "source": [
        "# Guide on Filing Tax Forms\n",
        "Yilun Guan and Yang Ma, Mar 22 2020"
      ]
    },
    {
      "cell_type": "markdown",
      "metadata": {
        "id": "P1jZd6jLhLPb",
        "colab_type": "text"
      },
      "source": [
        "# As a non-resident alien (Chinese citizen) holding F1, the (Federal) forms that you want to fill are \n",
        " - 1040NR (if you have dependents / captical gain (loss) from stocks)\n",
        " - 1040NR-EZ (if above criteria doesn't apply to you)\n",
        " - 8843 (for tax treaty)  \n",
        " - 8949 and Schedule D from 1040 (if you trade stocks)\n",
        " - If have dependents: additional 8843 form for each dependent\n",
        " \n",
        "Forms that you should have with you before filing are\n",
        " - W2\n",
        " - 1042-S\n",
        " - 1099B (if you trade stocks)"
      ]
    },
    {
      "cell_type": "markdown",
      "metadata": {
        "id": "xjXLcQmRhLPc",
        "colab_type": "text"
      },
      "source": [
        "## Personal Information\n",
        "Provide your personal information"
      ]
    },
    {
      "cell_type": "code",
      "metadata": {
        "id": "an8e6ufWhLPe",
        "colab_type": "code",
        "colab": {}
      },
      "source": [
        "first_name = \"Y\"\n",
        "last_name = \"M\"\n",
        "home_address = \" PITT PACC \"\n",
        "city = \"Pittsburgh\"\n",
        "ssn = \"XXXXXXXXX\"\n",
        "other_deduction = 0\n",
        "filing_status = 2  # 5 for married non-resident alien\n",
        "                   # 2 for single non-resident alien\n",
        "\n",
        "routing_number = \"XXXXXXX\"\n",
        "account_number = \"XXXXXXX\""
      ],
      "execution_count": 0,
      "outputs": []
    },
    {
      "cell_type": "markdown",
      "metadata": {
        "id": "tBSSUGMXhLPj",
        "colab_type": "text"
      },
      "source": [
        "## Other Tax Information (cancelled in 2018)\n",
        "Some other tax information that helps filling up the tax table"
      ]
    },
    {
      "cell_type": "code",
      "metadata": {
        "id": "_sikz4w0hLPl",
        "colab_type": "code",
        "colab": {}
      },
      "source": [
        "tax_preparation_fees = 0"
      ],
      "execution_count": 0,
      "outputs": []
    },
    {
      "cell_type": "markdown",
      "metadata": {
        "id": "X9KbAKZ8hLPp",
        "colab_type": "text"
      },
      "source": [
        "## W2 Form\n",
        "Provide your W2 information"
      ]
    },
    {
      "cell_type": "code",
      "metadata": {
        "id": "c01EONlVhLPq",
        "colab_type": "code",
        "colab": {}
      },
      "source": [
        "w2_box_1 = 10000\n",
        "w2_box_2 = 10000\n",
        "w2_box_14 = 100\n",
        "\n",
        "w2_box_15 = \"PA\"\n",
        "w2_box_16 = 1000.00\n",
        "w2_box_17 = 1000.00\n",
        "w2_box_18 = 55.00\n",
        "w2_box_19 = 56.00\n",
        "w2_box_20 = 70"
      ],
      "execution_count": 0,
      "outputs": []
    },
    {
      "cell_type": "markdown",
      "metadata": {
        "id": "5hI4YCrfhLPu",
        "colab_type": "text"
      },
      "source": [
        "## 1042-S Form\n",
        "Provide your 1042-S form information"
      ]
    },
    {
      "cell_type": "code",
      "metadata": {
        "id": "KU--mJBrhLPv",
        "colab_type": "code",
        "colab": {}
      },
      "source": [
        "f1042s_box_2 = 5000"
      ],
      "execution_count": 0,
      "outputs": []
    },
    {
      "cell_type": "markdown",
      "metadata": {
        "id": "u2xV-hYo4809",
        "colab_type": "text"
      },
      "source": [
        "## 1099 INT *Form*"
      ]
    },
    {
      "cell_type": "code",
      "metadata": {
        "id": "ZRL3eNy05A0r",
        "colab_type": "code",
        "colab": {}
      },
      "source": [
        "taxable_int=0.00\n",
        "f1099INT_box8=0.00"
      ],
      "execution_count": 0,
      "outputs": []
    },
    {
      "cell_type": "markdown",
      "metadata": {
        "id": "wuGbZlcDhLPz",
        "colab_type": "text"
      },
      "source": [
        "## 1099 B *Form*"
      ]
    },
    {
      "cell_type": "code",
      "metadata": {
        "id": "g7pcEY_ghLP1",
        "colab_type": "code",
        "colab": {}
      },
      "source": [
        "capital_gain = 0.00"
      ],
      "execution_count": 0,
      "outputs": []
    },
    {
      "cell_type": "markdown",
      "metadata": {
        "id": "uS9ZRTkEfzqT",
        "colab_type": "text"
      },
      "source": [
        "## 1099 DIV Form"
      ]
    },
    {
      "cell_type": "code",
      "metadata": {
        "id": "yKTOEzf0f-pt",
        "colab_type": "code",
        "colab": {}
      },
      "source": [
        "div_box_1a =0.00\n",
        "div_box_1b =0.00"
      ],
      "execution_count": 0,
      "outputs": []
    },
    {
      "cell_type": "markdown",
      "metadata": {
        "id": "3tfwGF8VhLP5",
        "colab_type": "text"
      },
      "source": [
        "## Federal Tax Form\n",
        "The following is simply a first pass on filling the federal tax form, meaning that itemized deductions, and other tax benefits are not exploited here. Those have to be done manually after this. \n",
        "\n",
        "For 2019, if your total compensation (including fringe benefits) is $250,000 or more and you allocate your compensation using an alternative method, check the \"Yes\" boxes in item K of Schedule OI on page 5. Also attach to Form 1040-NR a statement that contains the following information.\n",
        "\n",
        "See \n",
        "https://www.irs.gov/instructions/i1040nr#idm139853225896560\n",
        "for the instructions for Form 1040-NR and the tax table.\n",
        "\n",
        "NOTE: One needs to check the tax table using line_41 value to set line_42 manually.\n"
      ]
    },
    {
      "cell_type": "code",
      "metadata": {
        "id": "GmloH9J5hLP7",
        "colab_type": "code",
        "outputId": "ef6b9e03-565a-43b8-9058-16a431c6f29c",
        "colab": {
          "base_uri": "https://localhost:8080/",
          "height": 1000
        }
      },
      "source": [
        "print '===================================='\n",
        "print 'SECTION - Filling Status'\n",
        "print 'LINE %d: CHECK' % filing_status\n",
        "\n",
        "\n",
        "\n",
        "print '===================================='\n",
        "print 'SECTION - Income Effectively Connected Within US Trade / Business'\n",
        "\n",
        "# Wages\n",
        "line_8= w2_box_1;\n",
        "print 'LINE 8:', line_8\n",
        "\n",
        "#line_9a and line9_b to be updated if we have interest from banks\n",
        "\n",
        "#\n",
        "line_10a= div_box_1a\n",
        "line_10b= div_box_1b\n",
        "\n",
        "print 'LINE 10a', line_10a\n",
        "print 'LINE 10b', line_10b\n",
        "\n",
        "# No 1099-G form\n",
        "print 'LINE 11:', 0\n",
        "\n",
        "#Scholarship and fellowship grants, need to attach 1042-S\n",
        "print 'LINE 12:', 0\n",
        "\n",
        "#Business income (lose)\n",
        "print 'LINE 13:', 0\n",
        "\n",
        "#Stock income (income), Attach 8949 and Schedule D\n",
        "line_14=capital_gain\n",
        "print 'LINE 14' , line_14\n",
        "print 'Attach 8949 and Schedule D'\n",
        "\n",
        "print 'LINE 22:', f1042s_box_2\n",
        "print 'You must complete item L of Schedule OI on page 5 of Form 1040-NR'\n",
        "#\n",
        "line_23=line_8+line_14+line_10a\n",
        "print 'LINE 23:', line_23\n",
        "\n",
        "\n",
        "print '===================================='\n",
        "print 'SECTION - Adjusted Gross Income'\n",
        "print 'LINE 25:', 0\n",
        "print 'LINE 26:', 0\n",
        "print 'LINE 28-34:', 0\n",
        "line_35 = line_23-0\n",
        "print 'LINE 35:', line_35\n",
        "\n",
        "print '===================================='\n",
        "print 'SECTION - Tax and Credit'\n",
        "# line 36 is reserved for future use in 2019\n",
        "#line_36 = line_35\n",
        "#print 'LINE 36:', line_36\n",
        "\n",
        "# itemized deduction\n",
        "line_37 = w2_box_17 + w2_box_19 + w2_box_14+other_deduction\n",
        "print 'LINE 37:, see Schedule A line 8',line_37\n",
        "\n",
        "# add line 37 through 39\n",
        "line_40 = line_37\n",
        "print 'LINE 40:', line_40\n",
        "\n",
        "# taxable income\n",
        "line_41 = (line_35 - line_40) if (line_35 - line_40 > 0) else 0\n",
        "print 'LINE 41', line_41\n",
        "\n",
        "\n",
        "line_42 = 2000\n",
        "print 'LINE 42:', line_42\n",
        "print 'LINE 43:', 0\n",
        "line_45=line_42\n",
        "print 'LINE 45:', line_45\n",
        "print 'LINE 46-52:', 0\n",
        "\n",
        "line_53 = line_45-0\n",
        "print 'LINE 53:', line_53\n",
        "\n",
        "print '===================================='\n",
        "print 'SECTION - Other Taxes'\n",
        "print 'LINE 54:', 0\n",
        "print 'LINE 56:', 0\n",
        "print 'LINE 57:', 0\n",
        "print 'LINE 58:', 0\n",
        "print 'LINE 60:', 0\n",
        "\n",
        "line_61 = line_53\n",
        "print 'LINE 61:', line_61\n",
        "\n",
        "print '===================================='\n",
        "print 'SECTION - Payments'\n",
        "line_62a = w2_box_2\n",
        "print 'LINE 62a:', line_62a\n",
        "print 'LINE 62b-64:', 0\n",
        "# Check box 10 in 1042-S for 62d, usually it is 0\n",
        "print 'LINE 66-70:', 0\n",
        "\n",
        "line_71 = line_62a\n",
        "print 'LINE 71:', line_71\n",
        "\n",
        "print '===================================='\n",
        "print 'SECTION - Refund'\n",
        "line_72 = line_71 - line_61\n",
        "print 'LINE 72:', line_72\n",
        "print 'LINE 73a:', line_72 # if you want all to be payed\n",
        "print 'LINE 73b:', routing_number\n",
        "print 'LINE 73d:', account_number\n",
        "\n",
        "print '===================================='\n",
        "print 'SECTION - Amount You Owe'\n",
        "line_75=0 if (line_72 > 0) else -line_72\n",
        "print 'LINE 75:', line_75\n",
        "\n",
        "print '===================================='\n",
        "print 'SECTION - Sign Here'\n",
        "print 'Your Sigature: SIGN HERE!!'\n",
        "\n",
        "import datetime\n",
        "now = datetime.datetime.now()\n",
        "print 'Date:', now.strftime('%m/%d/%Y')\n",
        "print 'Occupation: Student'\n",
        "\n",
        "print '===================================='\n",
        "print 'SECTION - Schedule A - Itemized Deductions'\n",
        "SA_line_1a=w2_box_17+w2_box_19+ w2_box_14\n",
        "print 'LINE 1a:', SA_line_1a\n",
        "SA_line_1b=SA_line_1a\n",
        "print 'LINE 1b:', SA_line_1b\n",
        "print 'LINE 2-6:', 0\n",
        "print 'LINE 7:', other_deduction\n",
        "print 'LINE 8:', SA_line_1b+other_deduction\n"
      ],
      "execution_count": 8,
      "outputs": [
        {
          "output_type": "stream",
          "text": [
            "====================================\n",
            "SECTION - Filling Status\n",
            "LINE 2: CHECK\n",
            "====================================\n",
            "SECTION - Income Effectively Connected Within US Trade / Business\n",
            "LINE 8: 10000\n",
            "LINE 10a 0.0\n",
            "LINE 10b 0.0\n",
            "LINE 11: 0\n",
            "LINE 12: 0\n",
            "LINE 13: 0\n",
            "LINE 14 0.0\n",
            "Attach 8949 and Schedule D\n",
            "LINE 22: 5000\n",
            "You must complete item L of Schedule OI on page 5 of Form 1040-NR\n",
            "LINE 23: 10000.0\n",
            "====================================\n",
            "SECTION - Adjusted Gross Income\n",
            "LINE 25: 0\n",
            "LINE 26: 0\n",
            "LINE 28-34: 0\n",
            "LINE 35: 10000.0\n",
            "====================================\n",
            "SECTION - Tax and Credit\n",
            "LINE 37:, see Schedule A line 8 1156.0\n",
            "LINE 40: 1156.0\n",
            "LINE 41 8844.0\n",
            "LINE 42: 2000\n",
            "LINE 43: 0\n",
            "LINE 45: 2000\n",
            "LINE 46-52: 0\n",
            "LINE 53: 2000\n",
            "====================================\n",
            "SECTION - Other Taxes\n",
            "LINE 54: 0\n",
            "LINE 56: 0\n",
            "LINE 57: 0\n",
            "LINE 58: 0\n",
            "LINE 60: 0\n",
            "LINE 61: 2000\n",
            "====================================\n",
            "SECTION - Payments\n",
            "LINE 62a: 10000\n",
            "LINE 62b-64: 0\n",
            "LINE 66-70: 0\n",
            "LINE 71: 10000\n",
            "====================================\n",
            "SECTION - Refund\n",
            "LINE 72: 8000\n",
            "LINE 73a: 8000\n",
            "LINE 73b: XXXXXXX\n",
            "LINE 73d: XXXXXXX\n",
            "====================================\n",
            "SECTION - Amount You Owe\n",
            "LINE 75: 0\n",
            "====================================\n",
            "SECTION - Sign Here\n",
            "Your Sigature: SIGN HERE!!\n",
            "Date: 03/22/2020\n",
            "Occupation: Student\n",
            "====================================\n",
            "SECTION - Schedule A - Itemized Deductions\n",
            "LINE 1a: 1156.0\n",
            "LINE 1b: 1156.0\n",
            "LINE 2-6: 0\n",
            "LINE 7: 0\n",
            "LINE 8: 1156.0\n"
          ],
          "name": "stdout"
        }
      ]
    }
  ]
}