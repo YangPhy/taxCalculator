{
 "cells": [
  {
   "cell_type": "markdown",
   "metadata": {
    "id": "ZNXNeO1DhLPZ"
   },
   "source": [
    "# Guide on Filing Tax Forms\n",
    "Yilun Guan and Yang Ma, Mar 26 2021"
   ]
  },
  {
   "cell_type": "markdown",
   "metadata": {
    "id": "P1jZd6jLhLPb"
   },
   "source": [
    "# As a non-resident alien (Chinese citizen) holding F1, the (Federal) forms that you want to fill are \n",
    " - 1040NR (if you have dependents / captical gain (loss) from stocks)\n",
    " - 1040NR-EZ (if above criteria doesn't apply to you)\n",
    " - 8843 (for tax treaty)  \n",
    " - 8949 and Schedule D from 1040 (if you trade stocks)\n",
    " - If have dependents: additional 8843 form for each dependent\n",
    " \n",
    "Forms that you should have with you before filing are\n",
    " - W2\n",
    " - 1042-S\n",
    " - 1099B (if you trade stocks)"
   ]
  },
  {
   "cell_type": "markdown",
   "metadata": {
    "id": "xjXLcQmRhLPc"
   },
   "source": [
    "## Personal Information\n",
    "Provide your personal information"
   ]
  },
  {
   "cell_type": "code",
   "execution_count": null,
   "metadata": {
    "id": "an8e6ufWhLPe"
   },
   "outputs": [],
   "source": [
    "first_name = \"Y\"\n",
    "last_name = \"M\"\n",
    "home_address = \" PITT PACC \"\n",
    "city = \"Pittsburgh\"\n",
    "ssn = \"XXXXXXXXX\"\n",
    "other_deduction = 0\n",
    "filing_status = 2  # 5 for married non-resident alien\n",
    "                   # 2 for single non-resident alien\n",
    "\n",
    "routing_number = \"XXXXXXX\"\n",
    "account_number = \"XXXXXXX\""
   ]
  },
  {
   "cell_type": "markdown",
   "metadata": {
    "id": "tBSSUGMXhLPj"
   },
   "source": [
    "## Other Tax Information (cancelled in 2018)\n",
    "Some other tax information that helps filling up the tax table"
   ]
  },
  {
   "cell_type": "code",
   "execution_count": null,
   "metadata": {
    "id": "_sikz4w0hLPl"
   },
   "outputs": [],
   "source": [
    "tax_preparation_fees = 0"
   ]
  },
  {
   "cell_type": "markdown",
   "metadata": {
    "id": "X9KbAKZ8hLPp"
   },
   "source": [
    "## W2 Form\n",
    "Provide your W2 information"
   ]
  },
  {
   "cell_type": "code",
   "execution_count": null,
   "metadata": {
    "id": "c01EONlVhLPq"
   },
   "outputs": [],
   "source": [
    "w2_box_1 = 12045\n",
    "w2_box_2 = 11346.64\n",
    "w2_box_14 = 34.64\n",
    "\n",
    "w2_box_15 = \"PA\"\n",
    "w2_box_16 = 0.00\n",
    "w2_box_17 = 0.00\n",
    "w2_box_18 = 0.00\n",
    "w2_box_19 = 0.00\n",
    "w2_box_20 = 0"
   ]
  },
  {
   "cell_type": "markdown",
   "metadata": {
    "id": "5hI4YCrfhLPu"
   },
   "source": [
    "## 1042-S Form\n",
    "Provide your 1042-S form information"
   ]
  },
  {
   "cell_type": "code",
   "execution_count": null,
   "metadata": {
    "id": "KU--mJBrhLPv"
   },
   "outputs": [],
   "source": [
    "f1042s_box_2 = 5000"
   ]
  },
  {
   "cell_type": "markdown",
   "metadata": {
    "id": "u2xV-hYo4809"
   },
   "source": [
    "## 1099 INT *Form*"
   ]
  },
  {
   "cell_type": "code",
   "execution_count": 2,
   "metadata": {
    "id": "ZRL3eNy05A0r"
   },
   "outputs": [
    {
     "name": "stdout",
     "output_type": "stream",
     "text": [
      "taxable_int\n"
     ]
    },
    {
     "data": {
      "text/plain": [
       "(None, 303.48999999999995)"
      ]
     },
     "execution_count": 2,
     "metadata": {},
     "output_type": "execute_result"
    }
   ],
   "source": [
    "taxable_int=301.84+1.65\n",
    "f1099INT_box4=0.34\n",
    "f1099INT_box8=0.00\n",
    "print 'taxable_int', taxable_int"
   ]
  },
  {
   "cell_type": "markdown",
   "metadata": {
    "id": "wuGbZlcDhLPz"
   },
   "source": [
    "## 1099 B *Form*"
   ]
  },
  {
   "cell_type": "code",
   "execution_count": null,
   "metadata": {
    "id": "g7pcEY_ghLP1"
   },
   "outputs": [],
   "source": [
    "capital_gain = 0.00"
   ]
  },
  {
   "cell_type": "markdown",
   "metadata": {
    "id": "uS9ZRTkEfzqT"
   },
   "source": [
    "## 1099 DIV Form"
   ]
  },
  {
   "cell_type": "code",
   "execution_count": null,
   "metadata": {
    "id": "yKTOEzf0f-pt"
   },
   "outputs": [],
   "source": [
    "div_box_1a =0.00\n",
    "div_box_1b =0.00"
   ]
  },
  {
   "cell_type": "markdown",
   "metadata": {
    "id": "3tfwGF8VhLP5"
   },
   "source": [
    "## Federal Tax Form\n",
    "The following is simply a first pass on filling the federal tax form, meaning that itemized deductions, and other tax benefits are not exploited here. Those have to be done manually after this. \n",
    "\n",
    "For 2019, if your total compensation (including fringe benefits) is $250,000 or more and you allocate your compensation using an alternative method, check the \"Yes\" boxes in item K of Schedule OI on page 5. Also attach to Form 1040-NR a statement that contains the following information.\n",
    "\n",
    "See \n",
    "https://www.irs.gov/instructions/i1040nr#idm139853225896560\n",
    "for the instructions for Form 1040-NR and the tax table.\n",
    "\n",
    "NOTE: One needs to check the tax table using line_41 value to set line_42 manually.\n"
   ]
  },
  {
   "cell_type": "code",
   "execution_count": null,
   "metadata": {
    "colab": {
     "base_uri": "https://localhost:8080/",
     "height": 1000
    },
    "id": "GmloH9J5hLP7",
    "outputId": "ef6b9e03-565a-43b8-9058-16a431c6f29c"
   },
   "outputs": [
    {
     "name": "stdout",
     "output_type": "stream",
     "text": [
      "====================================\n",
      "SECTION - Filling Status\n",
      "LINE 2: CHECK\n",
      "====================================\n",
      "SECTION - Income Effectively Connected Within US Trade / Business\n",
      "LINE 8: 10000\n",
      "LINE 10a 0.0\n",
      "LINE 10b 0.0\n",
      "LINE 11: 0\n",
      "LINE 12: 0\n",
      "LINE 13: 0\n",
      "LINE 14 0.0\n",
      "Attach 8949 and Schedule D\n",
      "LINE 22: 5000\n",
      "You must complete item L of Schedule OI on page 5 of Form 1040-NR\n",
      "LINE 23: 10000.0\n",
      "====================================\n",
      "SECTION - Adjusted Gross Income\n",
      "LINE 25: 0\n",
      "LINE 26: 0\n",
      "LINE 28-34: 0\n",
      "LINE 35: 10000.0\n",
      "====================================\n",
      "SECTION - Tax and Credit\n",
      "LINE 37:, see Schedule A line 8 1156.0\n",
      "LINE 40: 1156.0\n",
      "LINE 41 8844.0\n",
      "LINE 42: 2000\n",
      "LINE 43: 0\n",
      "LINE 45: 2000\n",
      "LINE 46-52: 0\n",
      "LINE 53: 2000\n",
      "====================================\n",
      "SECTION - Other Taxes\n",
      "LINE 54: 0\n",
      "LINE 56: 0\n",
      "LINE 57: 0\n",
      "LINE 58: 0\n",
      "LINE 60: 0\n",
      "LINE 61: 2000\n",
      "====================================\n",
      "SECTION - Payments\n",
      "LINE 62a: 10000\n",
      "LINE 62b-64: 0\n",
      "LINE 66-70: 0\n",
      "LINE 71: 10000\n",
      "====================================\n",
      "SECTION - Refund\n",
      "LINE 72: 8000\n",
      "LINE 73a: 8000\n",
      "LINE 73b: XXXXXXX\n",
      "LINE 73d: XXXXXXX\n",
      "====================================\n",
      "SECTION - Amount You Owe\n",
      "LINE 75: 0\n",
      "====================================\n",
      "SECTION - Sign Here\n",
      "Your Sigature: SIGN HERE!!\n",
      "Date: 03/22/2020\n",
      "Occupation: Student\n",
      "====================================\n",
      "SECTION - Schedule A - Itemized Deductions\n",
      "LINE 1a: 1156.0\n",
      "LINE 1b: 1156.0\n",
      "LINE 2-6: 0\n",
      "LINE 7: 0\n",
      "LINE 8: 1156.0\n"
     ]
    }
   ],
   "source": [
    "print '===================================='\n",
    "print 'SECTION - Filling Status'\n",
    "print 'LINE %d: CHECK' % filing_status\n",
    "\n",
    "\n",
    "\n",
    "print '===================================='\n",
    "print 'SECTION - Income Effectively Connected Within US Trade / Business'\n",
    "\n",
    "# Wages\n",
    "line_1a= w2_box_1;\n",
    "print 'LINE 1a:', line_1a\n",
    "\n",
    "# I do not need to fill this line but to fill the line_1c\n",
    "# Might need to modify if there is fellowship but no tax treaty\n",
    "line_1b=0.00\n",
    "# print 'LINE 1b:', line_1b\n",
    "\n",
    "# For the tax treaty \n",
    "line_1c=f1042s_box_2\n",
    "print 'LINE 1c:', line_1c\n",
    "\n",
    "# Interest\n",
    "line_2a=f1099INT_box8\n",
    "line_2b=taxable_int\n",
    "print 'LINE 2a:', line_2a\n",
    "print 'LINE 2b:', line_2b\n",
    "\n",
    "# Dividends\n",
    "line_3b= div_box_1a\n",
    "line_3a= div_box_1b\n",
    "print 'LINE 3a:', line_3a\n",
    "print 'LINE 3b:', line_3b\n",
    "\n",
    "#Stock income (income), Attach 8949 and Schedule D\n",
    "line_7=capital_gain\n",
    "print 'LINE 7' , line_7\n",
    "print 'Include Schedule D'\n",
    "\n",
    "# Other income from Schedule 1, line 9\n",
    "# might use in the future\n",
    "line_8=0.00\n",
    "\n",
    "# Total effectively connected income\n",
    "line_9=line_1a+line_1b+line_2a+line_2b+line_3b+line_7+line_8\n",
    "print 'LINE 9:', line_9\n",
    "\n",
    "# line_10: only need to care line_10c if there is no tax treaty\n",
    "line_10d=0.00\n",
    "print 'LINE 10d:', line_10d\n",
    "\n",
    "# line_11: adjusted gross income\n",
    "line_11=line_9-line_10d\n",
    "print 'LINE 11:', line_11\n",
    "\n",
    "# itemized deduction\n",
    "line_12 = w2_box_17 + w2_box_19 + w2_box_14+other_deduction\n",
    "print 'LINE 12:, see Schedule A line 8',line_12\n",
    "\n",
    "# We do not have qualified business (line_13), otherwise we should count line_13\n",
    "line_14=line_12\n",
    "print 'LINE 14:', line_14\n",
    "\n",
    "# Taxable income\n",
    "line_15=line_11\n",
    "print 'LINE 15:', line_15\n",
    "\n",
    "print '===================================='\n",
    "print 'Please check the tax form to figure out the tax in Line 16'\n",
    "\n",
    "# Schedule 2\n",
    "line_17=0.00\n",
    "print 'Line 17:', line_17\n",
    "\n",
    "line_18=line_16+line_17\n",
    "print 'Line 18:', line_18\n",
    "\n",
    "# Child tax credit\n",
    "line_19=0.00\n",
    "print 'Line 19:', line_19\n",
    "\n",
    "# Schedule 3\n",
    "line_20=0.00\n",
    "print 'Line 20:', line_20\n",
    "\n",
    "line_21=line_19+line_20\n",
    "print 'Line 21:', line_21\n",
    "\n",
    "line_22=line_18-line_21\n",
    "print 'Line 22:', line_22\n",
    "\n",
    "# Total tax, here I skipped line_23 for the Schedule NEC\n",
    "line_24=line_22\n",
    "print 'Line 24:', line_24\n",
    "\n",
    "# Federal income tax withheld\n",
    "line_25a=w2_box_2\n",
    "print 'Line 25a:', line_25a\n",
    "line_25b=f1099INT_box4\n",
    "print 'Line 25b:', line_25b\n",
    "line_25c=0.00\n",
    "print 'Line 25c:', line_25c\n",
    "line_25d=line_25a+line_25b+line_25c\n",
    "print 'Line 25d:', line_25d\n",
    "\n",
    "\n",
    "print 'Line 26-32:', 0\n",
    "\n",
    "# Total payments\n",
    "line_33=line_25d\n",
    "print 'Line 33:', line_33\n",
    "\n",
    "\n",
    "print '===================================='\n",
    "print 'SECTION - Refund'\n",
    "line_34 = line_33 - line_24\n",
    "print 'LINE 34:', line_34\n",
    "print 'LINE 35a:', line_34 # if you want all to be payed\n",
    "print 'LINE 35b:', routing_number\n",
    "print 'LINE 35d:', account_number\n",
    "\n",
    "\n",
    "print '===================================='\n",
    "print 'SECTION - Amount You Owe'\n",
    "line_37=0 if (line_34 > 0) else -line_34\n",
    "print 'LINE 37:', line_37\n",
    "\n",
    "print '===================================='\n",
    "print 'SECTION - Sign Here'\n",
    "print 'Your Sigature: SIGN HERE!!'\n",
    "\n",
    "import datetime\n",
    "now = datetime.datetime.now()\n",
    "print 'Date:', now.strftime('%m/%d/%Y')\n",
    "print 'Occupation: Student'\n",
    "\n",
    "print '===================================='\n",
    "print 'SECTION - Schedule A - Itemized Deductions'\n",
    "SA_line_1a=w2_box_17+w2_box_19+ w2_box_14\n",
    "print 'LINE 1a:', SA_line_1a\n",
    "# We assume here that SA_line_1a is smaller than $10000\n",
    "SA_line_1b=SA_line_1a\n",
    "print 'LINE 1b:', SA_line_1b\n",
    "print 'LINE 2-6:', 0\n",
    "print 'LINE 7:', other_deduction\n",
    "print 'LINE 8:', SA_line_1b+other_deduction\n"
   ]
  }
 ],
 "metadata": {
  "colab": {
   "collapsed_sections": [],
   "name": "Copy of tax-calculator-2021.ipynb",
   "provenance": []
  },
  "kernelspec": {
   "display_name": "Python 3",
   "language": "python",
   "name": "python3"
  },
  "language_info": {
   "codemirror_mode": {
    "name": "ipython",
    "version": 3
   },
   "file_extension": ".py",
   "mimetype": "text/x-python",
   "name": "python",
   "nbconvert_exporter": "python",
   "pygments_lexer": "ipython3",
   "version": "3.7.4"
  }
 },
 "nbformat": 4,
 "nbformat_minor": 1
}
